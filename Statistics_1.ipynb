{
 "cells": [
  {
   "cell_type": "code",
   "execution_count": 3,
   "id": "bb310d26",
   "metadata": {},
   "outputs": [
    {
     "data": {
      "text/plain": [
       "'What is Statistics?'"
      ]
     },
     "execution_count": 3,
     "metadata": {},
     "output_type": "execute_result"
    }
   ],
   "source": [
    "'''What is Statistics?'''"
   ]
  },
  {
   "cell_type": "code",
   "execution_count": 4,
   "id": "0b170793",
   "metadata": {},
   "outputs": [
    {
     "data": {
      "text/plain": [
       "'Statistics is a branch of mathematics that deals with the collection, analysis, interpretation, presentation, and organization of data. It involves the use of mathematical methods to extract meaningful insights from data and to make informed decisions based on the results.'"
      ]
     },
     "execution_count": 4,
     "metadata": {},
     "output_type": "execute_result"
    }
   ],
   "source": [
    "'''Statistics is a branch of mathematics that deals with the collection, analysis, interpretation, presentation, and organization of data. It involves the use of mathematical methods to extract meaningful insights from data and to make informed decisions based on the results.'''"
   ]
  },
  {
   "cell_type": "code",
   "execution_count": 5,
   "id": "cc721a10",
   "metadata": {},
   "outputs": [
    {
     "data": {
      "text/plain": [
       "'Define the different types of statistics and give an example of when each type might be used.'"
      ]
     },
     "execution_count": 5,
     "metadata": {},
     "output_type": "execute_result"
    }
   ],
   "source": [
    "'''Define the different types of statistics and give an example of when each type might be used.'''"
   ]
  },
  {
   "cell_type": "code",
   "execution_count": 6,
   "id": "da941985",
   "metadata": {},
   "outputs": [
    {
     "data": {
      "text/plain": [
       "'Descriptive Statistics: Descriptive statistics refers to the methods used to summarize and describe the characteristics of a dataset. It involves collecting, organizing, and presenting data in a meaningful way. Examples of descriptive statistics include measures of central tendency (mean, median, mode), measures of dispersion (range, variance, standard deviation), and graphical displays (histograms, box plots, scatter plots). Descriptive statistics might be used in a research study to describe the characteristics of a sample, such as the age, gender, or income distribution of the participants.'"
      ]
     },
     "execution_count": 6,
     "metadata": {},
     "output_type": "execute_result"
    }
   ],
   "source": [
    "'''Descriptive Statistics: Descriptive statistics refers to the methods used to summarize and describe the characteristics of a dataset. It involves collecting, organizing, and presenting data in a meaningful way. Examples of descriptive statistics include measures of central tendency (mean, median, mode), measures of dispersion (range, variance, standard deviation), and graphical displays (histograms, box plots, scatter plots). Descriptive statistics might be used in a research study to describe the characteristics of a sample, such as the age, gender, or income distribution of the participants.'''"
   ]
  },
  {
   "cell_type": "code",
   "execution_count": 7,
   "id": "8f78632c",
   "metadata": {},
   "outputs": [
    {
     "data": {
      "text/plain": [
       "'Inferential Statistics: Inferential statistics involves making inferences about a larger population based on a sample of data. It allows us to draw conclusions beyond the data we have collected and to make predictions about future observations. Inferential statistics involves hypothesis testing and estimation of parameters. Examples of inferential statistics include t-tests, ANOVA, regression analysis, and confidence intervals. Inferential statistics might be used in a research study to test a hypothesis about the relationship between two variables, such as whether there is a significant difference in the mean scores of two groups on a particular test.'"
      ]
     },
     "execution_count": 7,
     "metadata": {},
     "output_type": "execute_result"
    }
   ],
   "source": [
    "'''Inferential Statistics: Inferential statistics involves making inferences about a larger population based on a sample of data. It allows us to draw conclusions beyond the data we have collected and to make predictions about future observations. Inferential statistics involves hypothesis testing and estimation of parameters. Examples of inferential statistics include t-tests, ANOVA, regression analysis, and confidence intervals. Inferential statistics might be used in a research study to test a hypothesis about the relationship between two variables, such as whether there is a significant difference in the mean scores of two groups on a particular test.'''"
   ]
  },
  {
   "cell_type": "code",
   "execution_count": 8,
   "id": "5e4c0084",
   "metadata": {},
   "outputs": [
    {
     "data": {
      "text/plain": [
       "'What are the different types of data and how do they differ from each other? Provide an example of each type of data.'"
      ]
     },
     "execution_count": 8,
     "metadata": {},
     "output_type": "execute_result"
    }
   ],
   "source": [
    "'''What are the different types of data and how do they differ from each other? Provide an example of each type of data.'''"
   ]
  },
  {
   "cell_type": "code",
   "execution_count": 9,
   "id": "07b51178",
   "metadata": {},
   "outputs": [
    {
     "data": {
      "text/plain": [
       "'we have quantitative and qualtitative data, in quantative we have continous and descrete data, continous data can be anything for example the value of a particular stock over the years whereas discrete data can be anything like a yes or no question, coming to the qualitative data we have nominal data which is having fixed set categories like gender blood groups, whereas another kind of qualitative data is ordinal where we define out own categories.'"
      ]
     },
     "execution_count": 9,
     "metadata": {},
     "output_type": "execute_result"
    }
   ],
   "source": [
    "'''we have quantitative and qualtitative data, in quantative we have continous and descrete data, continous data can be anything for example the value of a particular stock over the years whereas discrete data can be anything like a yes or no question, coming to the qualitative data we have nominal data which is having fixed set categories like gender blood groups, whereas another kind of qualitative data is ordinal where we define out own categories.'''"
   ]
  },
  {
   "cell_type": "code",
   "execution_count": 10,
   "id": "2188c02b",
   "metadata": {},
   "outputs": [],
   "source": [
    "#Q4. Categorise the following datasets with respect to quantitative and qualitative data types:\n",
    "#(i) Grading in exam: A+, A, B+, B, C+, C, D, E\n",
    "#(ii) Colour of mangoes: yellow, green, orange, red\n",
    "#(iii) Height data of a class: [178.9, 179, 179.5, 176, 177.2, 178.3, 175.8,...]\n",
    "#(iv) Number of mangoes exported by a farm: [500, 600, 478, 672, ...]"
   ]
  },
  {
   "cell_type": "code",
   "execution_count": 11,
   "id": "34871acb",
   "metadata": {},
   "outputs": [],
   "source": [
    "#qualitative\n",
    "#qualitative\n",
    "#quantative\n",
    "#quantative\n"
   ]
  },
  {
   "cell_type": "code",
   "execution_count": 12,
   "id": "b1bb714e",
   "metadata": {},
   "outputs": [],
   "source": [
    "#Q5. Explain the concept of levels of measurement and give an example of a variable for each level."
   ]
  },
  {
   "cell_type": "code",
   "execution_count": 14,
   "id": "1dba8b27",
   "metadata": {},
   "outputs": [],
   "source": [
    "#1.Nominal Scale: These are categorical data and come under qualitative data, examples cxan be male and female under gendar data.\n",
    "\n",
    "#2.Ordinal Scale: Here we have data having different criteria according to us, and we rank the data in a particular order, \n",
    "#but there's no particular difference between each dataset, \n",
    "#Example of ordinal variable includes educational level (High school, Bachelor's degree, Master's degree, Ph.D.).\n",
    "\n",
    "#3. Interval Scale: Interval level of measurement refers to data that can be measured on a numerical scale with equal intervals \n",
    "#between each value. Interval data does not have a true zero point, \n",
    "#meaning that the value of zero does not represent the absence of the property being measured. \n",
    "#Example of interval variable includes temperature in Celsius or Fahrenheit.\n",
    "\n",
    "#4.Ratio level: Ratio level of measurement refers to data that can be measured on a numerical scale with equal intervals \n",
    "#between each value and a true zero point. Ratio data have a meaningful zero point, meaning that the value of zero represents \n",
    "#the absence of the property being measured. Example of ratio variable includes weight, height, and income."
   ]
  },
  {
   "cell_type": "code",
   "execution_count": 15,
   "id": "8ce65944",
   "metadata": {},
   "outputs": [],
   "source": [
    "#Q6. Why is it important to understand the level of measurement when analyzing data? Provide an example to illustrate your answer."
   ]
  },
  {
   "cell_type": "code",
   "execution_count": 16,
   "id": "894c2b79",
   "metadata": {},
   "outputs": [],
   "source": [
    "#it is important to know the level of measurement while dealing with a particular set of data because the operation used\n",
    "#to reach at a particular conclusion can only be used when you have a particular set of data.\n",
    "#for example you cannot apply a function used to calculate the probability distribution of duscrete data on a continous data."
   ]
  },
  {
   "cell_type": "code",
   "execution_count": 17,
   "id": "cbb47c6f",
   "metadata": {},
   "outputs": [],
   "source": [
    "#Q7. How nominal data type is different from ordinal data type.\n",
    "\n",
    "#Already answerd in question 3"
   ]
  },
  {
   "cell_type": "code",
   "execution_count": 18,
   "id": "91fbc74d",
   "metadata": {},
   "outputs": [],
   "source": [
    "#Q8. Which type of plot can be used to display data in terms of range?\n",
    "#A box plot, also known as a box and whisker plot, can be used to display data in terms of range."
   ]
  },
  {
   "cell_type": "code",
   "execution_count": 19,
   "id": "a42688bf",
   "metadata": {},
   "outputs": [],
   "source": [
    "#Q9. Describe the difference between descriptive and inferential statistics. Give an example of each type of statistics and explain how they are used.\n",
    "#already explained in question 2."
   ]
  },
  {
   "cell_type": "code",
   "execution_count": 20,
   "id": "0b31e28b",
   "metadata": {},
   "outputs": [],
   "source": [
    "#Q10. What are some common measures of central tendency and variability used in statistics? \n",
    "#Explain how each measure can be used to describe a dataset."
   ]
  },
  {
   "cell_type": "code",
   "execution_count": 21,
   "id": "a9edc3c8",
   "metadata": {},
   "outputs": [
    {
     "data": {
      "text/plain": [
       "'Mean: The mean is the arithmetic average of a dataset, calculated by adding up all the values and dividing by the number of values. The mean is sensitive to outliers and extreme values, making it a useful measure of central tendency for datasets with a relatively normal distribution.'"
      ]
     },
     "execution_count": 21,
     "metadata": {},
     "output_type": "execute_result"
    }
   ],
   "source": [
    "'''Mean: The mean is the arithmetic average of a dataset, calculated by adding up all the values and dividing by the number of values. The mean is sensitive to outliers and extreme values, making it a useful measure of central tendency for datasets with a relatively normal distribution.'''"
   ]
  },
  {
   "cell_type": "code",
   "execution_count": 22,
   "id": "52c8fbff",
   "metadata": {},
   "outputs": [
    {
     "data": {
      "text/plain": [
       "'Median: The median is the middle value in a dataset when the values are arranged in order. The median is a more robust measure of central tendency than the mean, as it is less sensitive to extreme values.'"
      ]
     },
     "execution_count": 22,
     "metadata": {},
     "output_type": "execute_result"
    }
   ],
   "source": [
    "'''Median: The median is the middle value in a dataset when the values are arranged in order. The median is a more robust measure of central tendency than the mean, as it is less sensitive to extreme values.'''"
   ]
  },
  {
   "cell_type": "code",
   "execution_count": 23,
   "id": "093e258c",
   "metadata": {},
   "outputs": [
    {
     "data": {
      "text/plain": [
       "'Mode: The mode is the value that occurs most frequently in a dataset. The mode is useful for identifying the most common value or category in a dataset.'"
      ]
     },
     "execution_count": 23,
     "metadata": {},
     "output_type": "execute_result"
    }
   ],
   "source": [
    "'''Mode: The mode is the value that occurs most frequently in a dataset. The mode is useful for identifying the most common value or category in a dataset.'''"
   ]
  },
  {
   "cell_type": "code",
   "execution_count": 24,
   "id": "e313daf2",
   "metadata": {},
   "outputs": [
    {
     "data": {
      "text/plain": [
       "'Variance: The variance is a measure of the variability or spread of a dataset. It is calculated by taking the average of the squared deviations from the mean. A high variance indicates that the data points are spread out over a larger range of values, while a low variance indicates that the data points are more tightly clustered around the mean.'"
      ]
     },
     "execution_count": 24,
     "metadata": {},
     "output_type": "execute_result"
    }
   ],
   "source": [
    "'''Variance: The variance is a measure of the variability or spread of a dataset. It is calculated by taking the average of the squared deviations from the mean. A high variance indicates that the data points are spread out over a larger range of values, while a low variance indicates that the data points are more tightly clustered around the mean.'''"
   ]
  },
  {
   "cell_type": "code",
   "execution_count": 25,
   "id": "34747a41",
   "metadata": {},
   "outputs": [
    {
     "data": {
      "text/plain": [
       "'Standard deviation: The standard deviation is the square root of the variance and provides a measure of the spread of the data around the mean. It is a commonly used measure of variability and is useful for comparing the spread of datasets with different means.'"
      ]
     },
     "execution_count": 25,
     "metadata": {},
     "output_type": "execute_result"
    }
   ],
   "source": [
    "'''Standard deviation: The standard deviation is the square root of the variance and provides a measure of the spread of the data around the mean. It is a commonly used measure of variability and is useful for comparing the spread of datasets with different means.'''"
   ]
  },
  {
   "cell_type": "code",
   "execution_count": null,
   "id": "03ba4be5",
   "metadata": {},
   "outputs": [],
   "source": []
  }
 ],
 "metadata": {
  "kernelspec": {
   "display_name": "Python 3 (ipykernel)",
   "language": "python",
   "name": "python3"
  },
  "language_info": {
   "codemirror_mode": {
    "name": "ipython",
    "version": 3
   },
   "file_extension": ".py",
   "mimetype": "text/x-python",
   "name": "python",
   "nbconvert_exporter": "python",
   "pygments_lexer": "ipython3",
   "version": "3.10.9"
  }
 },
 "nbformat": 4,
 "nbformat_minor": 5
}
