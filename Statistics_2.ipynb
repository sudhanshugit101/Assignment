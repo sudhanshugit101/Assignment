{
 "cells": [
  {
   "cell_type": "code",
   "execution_count": 2,
   "id": "5d732217",
   "metadata": {},
   "outputs": [],
   "source": [
    "#Q1. What are the three measures of central tendency?"
   ]
  },
  {
   "cell_type": "code",
   "execution_count": 3,
   "id": "d9feadbf",
   "metadata": {},
   "outputs": [],
   "source": [
    "#Mean, Median, Mode"
   ]
  },
  {
   "cell_type": "code",
   "execution_count": 4,
   "id": "03cc66e1",
   "metadata": {},
   "outputs": [],
   "source": [
    "#Q2. What is the difference between the mean, median, and mode? How are they used to measure the central tendency of a dataset?"
   ]
  },
  {
   "cell_type": "code",
   "execution_count": 5,
   "id": "14f3cdf3",
   "metadata": {},
   "outputs": [
    {
     "data": {
      "text/plain": [
       "'The mean is the sum of all the values in a dataset divided by the number of values. It is a commonly used measure of central tendency when the data is normally distributed. The mean is sensitive to outliers, which can cause it to be skewed.'"
      ]
     },
     "execution_count": 5,
     "metadata": {},
     "output_type": "execute_result"
    }
   ],
   "source": [
    "'''The mean is the sum of all the values in a dataset divided by the number of values. It is a commonly used measure of central tendency when the data is normally distributed. The mean is sensitive to outliers, which can cause it to be skewed.'''"
   ]
  },
  {
   "cell_type": "code",
   "execution_count": 6,
   "id": "0e33f78a",
   "metadata": {},
   "outputs": [
    {
     "data": {
      "text/plain": [
       "'The median is the middle value in a dataset when the values are arranged in order. It is a useful measure of central tendency when the data is skewed or has outliers because it is not affected by extreme values. To find the median, you simply line up all the values in your data set in order from smallest to largest and find the middle value.'"
      ]
     },
     "execution_count": 6,
     "metadata": {},
     "output_type": "execute_result"
    }
   ],
   "source": [
    "'''The median is the middle value in a dataset when the values are arranged in order. It is a useful measure of central tendency when the data is skewed or has outliers because it is not affected by extreme values. To find the median, you simply line up all the values in your data set in order from smallest to largest and find the middle value.'''"
   ]
  },
  {
   "cell_type": "code",
   "execution_count": 7,
   "id": "da582ebc",
   "metadata": {},
   "outputs": [
    {
     "data": {
      "text/plain": [
       "'The mode is the value that occurs most frequently in a dataset. It is useful for identifying the most common value or category in a dataset. '"
      ]
     },
     "execution_count": 7,
     "metadata": {},
     "output_type": "execute_result"
    }
   ],
   "source": [
    "'''The mode is the value that occurs most frequently in a dataset. It is useful for identifying the most common value or category in a dataset. '''"
   ]
  },
  {
   "cell_type": "code",
   "execution_count": 9,
   "id": "a25bd205",
   "metadata": {},
   "outputs": [],
   "source": [
    "#Q3. Measure the three measures of central tendency for the given height data:\n",
    "#[178,177,176,177,178.2,178,175,179,180,175,178.9,176.2,177,172.5,178,176.5]"
   ]
  },
  {
   "cell_type": "code",
   "execution_count": 10,
   "id": "5fd27340",
   "metadata": {},
   "outputs": [],
   "source": [
    "import numpy as np"
   ]
  },
  {
   "cell_type": "code",
   "execution_count": 12,
   "id": "7833111b",
   "metadata": {},
   "outputs": [],
   "source": [
    "ls=[178,177,176,177,178.2,178,175,179,180,175,178.9,176.2,177,172.5,178,176.5]"
   ]
  },
  {
   "cell_type": "code",
   "execution_count": 13,
   "id": "45e34ae4",
   "metadata": {},
   "outputs": [
    {
     "data": {
      "text/plain": [
       "177.01875"
      ]
     },
     "execution_count": 13,
     "metadata": {},
     "output_type": "execute_result"
    }
   ],
   "source": [
    "np.mean(ls)"
   ]
  },
  {
   "cell_type": "code",
   "execution_count": 14,
   "id": "71cd831e",
   "metadata": {},
   "outputs": [
    {
     "data": {
      "text/plain": [
       "177.0"
      ]
     },
     "execution_count": 14,
     "metadata": {},
     "output_type": "execute_result"
    }
   ],
   "source": [
    "np.median(ls)"
   ]
  },
  {
   "cell_type": "code",
   "execution_count": 16,
   "id": "a12ec972",
   "metadata": {},
   "outputs": [],
   "source": [
    "from scipy import stats"
   ]
  },
  {
   "cell_type": "code",
   "execution_count": 19,
   "id": "38d7014e",
   "metadata": {},
   "outputs": [
    {
     "name": "stderr",
     "output_type": "stream",
     "text": [
      "C:\\Users\\admin\\AppData\\Local\\Temp\\ipykernel_8876\\938682719.py:1: FutureWarning: Unlike other reduction functions (e.g. `skew`, `kurtosis`), the default behavior of `mode` typically preserves the axis it acts along. In SciPy 1.11.0, this behavior will change: the default value of `keepdims` will become False, the `axis` over which the statistic is taken will be eliminated, and the value None will no longer be accepted. Set `keepdims` to True or False to avoid this warning.\n",
      "  stats.mode(ls)\n"
     ]
    },
    {
     "data": {
      "text/plain": [
       "ModeResult(mode=array([177.]), count=array([3]))"
      ]
     },
     "execution_count": 19,
     "metadata": {},
     "output_type": "execute_result"
    }
   ],
   "source": [
    "stats.mode(ls)"
   ]
  },
  {
   "cell_type": "code",
   "execution_count": 21,
   "id": "d7146450",
   "metadata": {},
   "outputs": [],
   "source": [
    "#Q4. Find the standard deviation for the given data:\n",
    "#[178,177,176,177,178.2,178,175,179,180,175,178.9,176.2,177,172.5,178,176.5]"
   ]
  },
  {
   "cell_type": "code",
   "execution_count": 22,
   "id": "8c31e2c1",
   "metadata": {},
   "outputs": [
    {
     "data": {
      "text/plain": [
       "1.7885814036548633"
      ]
     },
     "execution_count": 22,
     "metadata": {},
     "output_type": "execute_result"
    }
   ],
   "source": [
    "np.std(ls)"
   ]
  },
  {
   "cell_type": "code",
   "execution_count": 23,
   "id": "0a7f6e9b",
   "metadata": {},
   "outputs": [],
   "source": [
    "#Q5. How are measures of dispersion such as range, variance, and standard deviation used to describe\n",
    "#the spread of a dataset? Provide an example."
   ]
  },
  {
   "cell_type": "code",
   "execution_count": 24,
   "id": "03940d0f",
   "metadata": {},
   "outputs": [
    {
     "data": {
      "text/plain": [
       "'Range is the difference between the maximum and minimum values in the dataset. It gives us an idea of the total spread of the data. For example, if the range of a dataset of test scores is 40, then the highest score is 40 points higher than the lowest score.'"
      ]
     },
     "execution_count": 24,
     "metadata": {},
     "output_type": "execute_result"
    }
   ],
   "source": [
    "'''Range is the difference between the maximum and minimum values in the dataset. It gives us an idea of the total spread of the data. For example, if the range of a dataset of test scores is 40, then the highest score is 40 points higher than the lowest score.'''"
   ]
  },
  {
   "cell_type": "code",
   "execution_count": 25,
   "id": "c395c0d1",
   "metadata": {},
   "outputs": [
    {
     "data": {
      "text/plain": [
       "'Variance measures how far each value in the dataset is from the mean of the dataset. It is calculated by taking the average of the squared differences between each value and the mean. A high variance indicates that the data is spread out, while a low variance indicates that the data is clustered around the mean.\\n\\n'"
      ]
     },
     "execution_count": 25,
     "metadata": {},
     "output_type": "execute_result"
    }
   ],
   "source": [
    "'''Variance measures how far each value in the dataset is from the mean of the dataset. It is calculated by taking the average of the squared differences between each value and the mean. A high variance indicates that the data is spread out, while a low variance indicates that the data is clustered around the mean.\n",
    "\n",
    "'''"
   ]
  },
  {
   "cell_type": "code",
   "execution_count": 26,
   "id": "c4a08533",
   "metadata": {},
   "outputs": [
    {
     "data": {
      "text/plain": [
       "'Standard deviation is the square root of the variance and is often used as a more intuitive measure of dispersion. It measures the typical distance of each value from the mean, and is useful for understanding how tightly clustered or spread out the data is.'"
      ]
     },
     "execution_count": 26,
     "metadata": {},
     "output_type": "execute_result"
    }
   ],
   "source": [
    "'''Standard deviation is the square root of the variance and is often used as a more intuitive measure of dispersion. It measures the typical distance of each value from the mean, and is useful for understanding how tightly clustered or spread out the data is.'''"
   ]
  },
  {
   "cell_type": "code",
   "execution_count": 27,
   "id": "641c1921",
   "metadata": {},
   "outputs": [
    {
     "data": {
      "text/plain": [
       "'Suppose we have a dataset of the heights (in centimeters) of 10 people: 160, 165, 170, 172, 175, 177, 180, 182, 185, 190.\\n\\nThe range of this dataset is 30 (190 - 160).\\nThe variance is approximately 128.6, indicating that the data is somewhat spread out.\\nThe standard deviation is approximately 11.3, indicating that the typical distance of each value from the mean is about 11.3 cm.'"
      ]
     },
     "execution_count": 27,
     "metadata": {},
     "output_type": "execute_result"
    }
   ],
   "source": [
    "'''Suppose we have a dataset of the heights (in centimeters) of 10 people: 160, 165, 170, 172, 175, 177, 180, 182, 185, 190.\n",
    "\n",
    "The range of this dataset is 30 (190 - 160).\n",
    "The variance is approximately 128.6, indicating that the data is somewhat spread out.\n",
    "The standard deviation is approximately 11.3, indicating that the typical distance of each value from the mean is about 11.3 cm.'''"
   ]
  },
  {
   "cell_type": "code",
   "execution_count": 28,
   "id": "40392cb1",
   "metadata": {},
   "outputs": [],
   "source": [
    "#Q6. What is a Venn diagram?"
   ]
  },
  {
   "cell_type": "code",
   "execution_count": 29,
   "id": "d9e83df2",
   "metadata": {},
   "outputs": [
    {
     "data": {
      "text/plain": [
       "'A Venn diagram is a visual representation of the relationships between different sets of items. It consists of overlapping circles or other shapes, each representing a set, and the areas where the circles overlap represent the elements that are common to those sets.'"
      ]
     },
     "execution_count": 29,
     "metadata": {},
     "output_type": "execute_result"
    }
   ],
   "source": [
    "'''A Venn diagram is a visual representation of the relationships between different sets of items. It consists of overlapping circles or other shapes, each representing a set, and the areas where the circles overlap represent the elements that are common to those sets.'''"
   ]
  },
  {
   "cell_type": "code",
   "execution_count": 30,
   "id": "278bd303",
   "metadata": {},
   "outputs": [],
   "source": [
    "#Q7. For the two given sets A = (2,3,4,5,6,7) & B = (0,2,6,8,10). Find:\n",
    "#(i) A (intersection) B\n",
    "#(ii) A ⋃ B"
   ]
  },
  {
   "cell_type": "code",
   "execution_count": 41,
   "id": "8ee3c3c7",
   "metadata": {},
   "outputs": [],
   "source": [
    "A = (2,3,4,5,6,7)\n",
    "B = (0,2,6,8,10)"
   ]
  },
  {
   "cell_type": "code",
   "execution_count": 42,
   "id": "5fe8a49a",
   "metadata": {},
   "outputs": [],
   "source": [
    "a=set(A)\n",
    "b=set(B)"
   ]
  },
  {
   "cell_type": "code",
   "execution_count": 43,
   "id": "b3d82714",
   "metadata": {},
   "outputs": [
    {
     "data": {
      "text/plain": [
       "{0, 2, 3, 4, 5, 6, 7, 8, 10}"
      ]
     },
     "execution_count": 43,
     "metadata": {},
     "output_type": "execute_result"
    }
   ],
   "source": [
    "a | b"
   ]
  },
  {
   "cell_type": "code",
   "execution_count": 44,
   "id": "38f8eeed",
   "metadata": {},
   "outputs": [
    {
     "data": {
      "text/plain": [
       "{2, 6}"
      ]
     },
     "execution_count": 44,
     "metadata": {},
     "output_type": "execute_result"
    }
   ],
   "source": [
    "a & b"
   ]
  },
  {
   "cell_type": "code",
   "execution_count": 45,
   "id": "9f62c092",
   "metadata": {},
   "outputs": [],
   "source": [
    "#Q8. What do you understand about skewness in data?"
   ]
  },
  {
   "cell_type": "code",
   "execution_count": 46,
   "id": "3e2b9f39",
   "metadata": {},
   "outputs": [
    {
     "data": {
      "text/plain": [
       "'In statistics, skewness refers to the degree of asymmetry in a probability distribution. When a distribution is symmetric, the mean, median, and mode are all equal, and the distribution has zero skewness. However, when a distribution is not symmetric, the mean, median, and mode can differ, and the distribution has nonzero skewness.\\n\\n'"
      ]
     },
     "execution_count": 46,
     "metadata": {},
     "output_type": "execute_result"
    }
   ],
   "source": [
    "'''In statistics, skewness refers to the degree of asymmetry in a probability distribution. When a distribution is symmetric, the mean, median, and mode are all equal, and the distribution has zero skewness. However, when a distribution is not symmetric, the mean, median, and mode can differ, and the distribution has nonzero skewness.\n",
    "\n",
    "'''"
   ]
  },
  {
   "cell_type": "code",
   "execution_count": 47,
   "id": "adbe7af5",
   "metadata": {},
   "outputs": [],
   "source": [
    "#Q9. If a data is right skewed then what will be the position of median with respect to mean?"
   ]
  },
  {
   "cell_type": "code",
   "execution_count": 48,
   "id": "53ae0dc1",
   "metadata": {},
   "outputs": [
    {
     "data": {
      "text/plain": [
       "'Positive skewness occurs when the tail of the distribution extends more to the right than to the left. In other words, the mean is greater than the median, and the mode is less than the median. This is sometimes called \"right-skewed\" or \"skewed to the right\". Positive skewness is often seen in financial data, such as stock prices or incomes.'"
      ]
     },
     "execution_count": 48,
     "metadata": {},
     "output_type": "execute_result"
    }
   ],
   "source": [
    "'''Positive skewness occurs when the tail of the distribution extends more to the right than to the left. In other words, the mean is greater than the median, and the mode is less than the median. This is sometimes called \"right-skewed\" or \"skewed to the right\". Positive skewness is often seen in financial data, such as stock prices or incomes.'''"
   ]
  },
  {
   "cell_type": "code",
   "execution_count": 49,
   "id": "4a26a9a1",
   "metadata": {},
   "outputs": [],
   "source": [
    "#Q10. Explain the difference between covariance and correlation. How are these measures used in statistical analysis?"
   ]
  },
  {
   "cell_type": "code",
   "execution_count": 50,
   "id": "603f3e7c",
   "metadata": {},
   "outputs": [
    {
     "data": {
      "text/plain": [
       "'\\nCovariance and correlation are both measures of the relationship between two variables in a dataset, but they differ in how they are calculated and what they represent.\\n\\nCovariance measures the degree to which two variables vary together. It is calculated by taking the sum of the products of the deviations of each variable from their respective means. The formula for covariance between variables X and Y is:\\n\\ncov(X,Y) = Σ[(Xi - X_mean)(Yi - Y_mean)] / (n-1)\\n\\nwhere Xi and Yi are the values of variables X and Y, X_mean and Y_mean are the means of X and Y, and n is the number of observations.\\n\\nThe sign of the covariance indicates the direction of the relationship between the variables. A positive covariance indicates that the variables tend to move together in the same direction, while a negative covariance indicates that the variables tend to move in opposite directions.\\n\\nHowever, covariance is affected by the scale of the variables, so it can be difficult to interpret the magnitude of the covariance. This is where correlation comes in.\\n\\nCorrelation measures the strength and direction of the linear relationship between two variables. It is calculated by dividing the covariance by the product of the standard deviations of the two variables. The formula for correlation between variables X and Y is:\\n\\ncorr(X,Y) = cov(X,Y) / (std_dev(X) * std_dev(Y))\\n\\nwhere cov(X,Y) is the covariance between X and Y, and std_dev(X) and std_dev(Y) are the standard deviations of X and Y, respectively.\\n\\nCorrelation ranges from -1 to 1, with a value of 0 indicating no linear relationship, a value of 1 indicating a perfect positive linear relationship, and a value of -1 indicating a perfect negative linear relationship.'"
      ]
     },
     "execution_count": 50,
     "metadata": {},
     "output_type": "execute_result"
    }
   ],
   "source": [
    "'''\n",
    "Covariance and correlation are both measures of the relationship between two variables in a dataset, but they differ in how they are calculated and what they represent.\n",
    "\n",
    "Covariance measures the degree to which two variables vary together. It is calculated by taking the sum of the products of the deviations of each variable from their respective means. The formula for covariance between variables X and Y is:\n",
    "\n",
    "cov(X,Y) = Σ[(Xi - X_mean)(Yi - Y_mean)] / (n-1)\n",
    "\n",
    "where Xi and Yi are the values of variables X and Y, X_mean and Y_mean are the means of X and Y, and n is the number of observations.\n",
    "\n",
    "The sign of the covariance indicates the direction of the relationship between the variables. A positive covariance indicates that the variables tend to move together in the same direction, while a negative covariance indicates that the variables tend to move in opposite directions.\n",
    "\n",
    "However, covariance is affected by the scale of the variables, so it can be difficult to interpret the magnitude of the covariance. This is where correlation comes in.\n",
    "\n",
    "Correlation measures the strength and direction of the linear relationship between two variables. It is calculated by dividing the covariance by the product of the standard deviations of the two variables. The formula for correlation between variables X and Y is:\n",
    "\n",
    "corr(X,Y) = cov(X,Y) / (std_dev(X) * std_dev(Y))\n",
    "\n",
    "where cov(X,Y) is the covariance between X and Y, and std_dev(X) and std_dev(Y) are the standard deviations of X and Y, respectively.\n",
    "\n",
    "Correlation ranges from -1 to 1, with a value of 0 indicating no linear relationship, a value of 1 indicating a perfect positive linear relationship, and a value of -1 indicating a perfect negative linear relationship.'''"
   ]
  },
  {
   "cell_type": "code",
   "execution_count": 51,
   "id": "3e2501a0",
   "metadata": {},
   "outputs": [],
   "source": [
    "#Q11. What is the formula for calculating the sample mean? Provide an example calculation for a dataset."
   ]
  },
  {
   "cell_type": "code",
   "execution_count": 53,
   "id": "ae1c8bf8",
   "metadata": {},
   "outputs": [
    {
     "data": {
      "text/plain": [
       "'The sample mean is calculated by summing up all the values in a dataset and dividing by the number of observations. The formula for the sample mean is:\\n\\nsample mean = (sum of values) / (number of observations)\\n\\nFor example, consider the following dataset:\\n\\n[4, 8, 6, 3, 10, 7, 2, 9, 5, 1]\\n\\nTo calculate the sample mean, we first add up all the values:\\n\\n4 + 8 + 6 + 3 + 10 + 7 + 2 + 9 + 5 + 1 = 55\\n\\nNext, we divide the sum by the number of observations, which in this case is 10:\\n\\nsample mean = 55 / 10 = 5.5\\n\\nTherefore, the sample mean of this dataset is 5.5.'"
      ]
     },
     "execution_count": 53,
     "metadata": {},
     "output_type": "execute_result"
    }
   ],
   "source": [
    "'''The sample mean is calculated by summing up all the values in a dataset and dividing by the number of observations. The formula for the sample mean is:\n",
    "\n",
    "sample mean = (sum of values) / (number of observations)\n",
    "\n",
    "For example, consider the following dataset:\n",
    "\n",
    "[4, 8, 6, 3, 10, 7, 2, 9, 5, 1]\n",
    "\n",
    "To calculate the sample mean, we first add up all the values:\n",
    "\n",
    "4 + 8 + 6 + 3 + 10 + 7 + 2 + 9 + 5 + 1 = 55\n",
    "\n",
    "Next, we divide the sum by the number of observations, which in this case is 10:\n",
    "\n",
    "sample mean = 55 / 10 = 5.5\n",
    "\n",
    "Therefore, the sample mean of this dataset is 5.5.'''"
   ]
  },
  {
   "cell_type": "code",
   "execution_count": 54,
   "id": "07ceb108",
   "metadata": {},
   "outputs": [],
   "source": [
    "#Q12. For a normal distribution data what is the relationship between its measure of central tendency?"
   ]
  },
  {
   "cell_type": "code",
   "execution_count": 55,
   "id": "20e08fde",
   "metadata": {},
   "outputs": [
    {
     "data": {
      "text/plain": [
       "'For a normal distribution, the mean, median, and mode are all equal. This means that the measure of central tendency in a normal distribution is the same, regardless of which one is used.'"
      ]
     },
     "execution_count": 55,
     "metadata": {},
     "output_type": "execute_result"
    }
   ],
   "source": [
    "'''For a normal distribution, the mean, median, and mode are all equal. This means that the measure of central tendency in a normal distribution is the same, regardless of which one is used.'''"
   ]
  },
  {
   "cell_type": "code",
   "execution_count": 56,
   "id": "79cf1937",
   "metadata": {},
   "outputs": [],
   "source": [
    "#Q13. How is covariance different from correlation?"
   ]
  },
  {
   "cell_type": "code",
   "execution_count": 57,
   "id": "32ccde9d",
   "metadata": {},
   "outputs": [],
   "source": [
    "#already explainded in 10th"
   ]
  },
  {
   "cell_type": "code",
   "execution_count": 58,
   "id": "80144749",
   "metadata": {},
   "outputs": [],
   "source": [
    "#Q14. How do outliers affect measures of central tendency and dispersion? Provide an example."
   ]
  },
  {
   "cell_type": "code",
   "execution_count": 59,
   "id": "66777bdc",
   "metadata": {},
   "outputs": [
    {
     "data": {
      "text/plain": [
       "'The presence of outliers can affect measures of central tendency, such as the mean and median, by pulling them away from the center of the data. For example, if we have a dataset of test scores and one student scores significantly higher than the others, the mean (average) score will be higher than the median (middle) score because the outlier pulls the mean upward.'"
      ]
     },
     "execution_count": 59,
     "metadata": {},
     "output_type": "execute_result"
    }
   ],
   "source": [
    "'''The presence of outliers can affect measures of central tendency, such as the mean and median, by pulling them away from the center of the data. For example, if we have a dataset of test scores and one student scores significantly higher than the others, the mean (average) score will be higher than the median (middle) score because the outlier pulls the mean upward.'''"
   ]
  },
  {
   "cell_type": "code",
   "execution_count": 60,
   "id": "88feb101",
   "metadata": {},
   "outputs": [
    {
     "data": {
      "text/plain": [
       "\"Similarly, outliers can affect measures of dispersion, such as the range and standard deviation, by increasing the spread of the data. For example, if we have a dataset of salaries for a company and one executive earns significantly more than the others, the range and standard deviation will be larger than if the executive's salary were more typical of the others in the company.\""
      ]
     },
     "execution_count": 60,
     "metadata": {},
     "output_type": "execute_result"
    }
   ],
   "source": [
    "'''Similarly, outliers can affect measures of dispersion, such as the range and standard deviation, by increasing the spread of the data. For example, if we have a dataset of salaries for a company and one executive earns significantly more than the others, the range and standard deviation will be larger than if the executive's salary were more typical of the others in the company.'''"
   ]
  },
  {
   "cell_type": "code",
   "execution_count": 61,
   "id": "5334f8c7",
   "metadata": {},
   "outputs": [
    {
     "data": {
      "text/plain": [
       "\"Here's an example: Suppose we have a dataset of 10 test scores: 75, 80, 82, 85, 88, 90, 92, 94, 96, 100. If we add an outlier score of 120 to the dataset, the measures of central tendency and dispersion will be affected.\\n\\nThe new mean score becomes:\\n\\n(75+80+82+85+88+90+92+94+96+100+120) / 11 = 91.36\\n\\nThis is significantly higher than the original mean of 88.2.\\n\\nThe new median score is still 90 since the outlier score of 120 is higher than all the other scores.\\n\\nThe new range is 45 (120-75), which is much larger than the original range of 25.\\n\\nThe new standard deviation is also larger since the outlier score increases the spread of the data.\""
      ]
     },
     "execution_count": 61,
     "metadata": {},
     "output_type": "execute_result"
    }
   ],
   "source": [
    "'''Here's an example: Suppose we have a dataset of 10 test scores: 75, 80, 82, 85, 88, 90, 92, 94, 96, 100. If we add an outlier score of 120 to the dataset, the measures of central tendency and dispersion will be affected.\n",
    "\n",
    "The new mean score becomes:\n",
    "\n",
    "(75+80+82+85+88+90+92+94+96+100+120) / 11 = 91.36\n",
    "\n",
    "This is significantly higher than the original mean of 88.2.\n",
    "\n",
    "The new median score is still 90 since the outlier score of 120 is higher than all the other scores.\n",
    "\n",
    "The new range is 45 (120-75), which is much larger than the original range of 25.\n",
    "\n",
    "The new standard deviation is also larger since the outlier score increases the spread of the data.'''"
   ]
  },
  {
   "cell_type": "code",
   "execution_count": null,
   "id": "2f766e57",
   "metadata": {},
   "outputs": [],
   "source": []
  }
 ],
 "metadata": {
  "kernelspec": {
   "display_name": "Python 3 (ipykernel)",
   "language": "python",
   "name": "python3"
  },
  "language_info": {
   "codemirror_mode": {
    "name": "ipython",
    "version": 3
   },
   "file_extension": ".py",
   "mimetype": "text/x-python",
   "name": "python",
   "nbconvert_exporter": "python",
   "pygments_lexer": "ipython3",
   "version": "3.10.9"
  }
 },
 "nbformat": 4,
 "nbformat_minor": 5
}
