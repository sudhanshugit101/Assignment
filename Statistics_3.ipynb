{
 "cells": [
  {
   "cell_type": "markdown",
   "id": "245f3c82",
   "metadata": {},
   "source": [
    "Q1. What is the Probability density function?"
   ]
  },
  {
   "cell_type": "markdown",
   "id": "b9ed174b",
   "metadata": {},
   "source": [
    "The probability density function (PDF) is a mathematical function that describes the probability distribution of a random variable in a continuous probability distribution. It provides the probability of occurrence of a random variable within a particular range of values."
   ]
  },
  {
   "cell_type": "markdown",
   "id": "15e9c18d",
   "metadata": {},
   "source": [
    "Q2. What are the types of Probability distribution?"
   ]
  },
  {
   "cell_type": "markdown",
   "id": "51bdcc5b",
   "metadata": {},
   "source": [
    "Normal distribution\n",
    "\n",
    "Binomial distribution\n",
    "\n",
    "Poisson distribution\n",
    "\n",
    "Log normal distribution\n",
    "\n",
    "\n",
    "Power low distribution\n",
    "\n",
    "Bernoulli distribution\n",
    "\n",
    "Uniform distribution\n"
   ]
  },
  {
   "cell_type": "markdown",
   "id": "b91ac165",
   "metadata": {},
   "source": [
    "Q3. Write a Python function to calculate the probability density function of a normal distribution with\n",
    "given mean and standard deviation at a given point."
   ]
  },
  {
   "cell_type": "code",
   "execution_count": 1,
   "id": "5dd94e92",
   "metadata": {},
   "outputs": [],
   "source": [
    "import math\n",
    "\n",
    "def normal_pdf(x, mean, sd):\n",
    "    \"\"\"\n",
    "    Calculate the probability density function of a normal distribution\n",
    "    with given mean and standard deviation at a given point.\n",
    "    \"\"\"\n",
    "    var = float(sd)**2\n",
    "    denom = (2*math.pi*var)**0.5\n",
    "    num = math.exp(-(float(x)-float(mean))**2/(2*var))\n",
    "    return num/denom"
   ]
  },
  {
   "cell_type": "markdown",
   "id": "c1c9e4a6",
   "metadata": {},
   "source": [
    "Q4. What are the properties of Binomial distribution? Give two examples of events where binomial\n",
    "distribution can be applied."
   ]
  },
  {
   "cell_type": "markdown",
   "id": "ea665951",
   "metadata": {},
   "source": [
    "It is a discrete probability distribution that describes the number of successes in a fixed number of independent trials, given a certain probability of success in each trial.\n",
    "\n",
    "The trials are independent, meaning that the outcome of one trial does not affect the outcome of another trial.\n",
    "\n",
    "There are only two possible outcomes for each trial: success or failure.\n",
    "\n",
    "The probability of success is constant across all trials.\n",
    "\n",
    "The number of trials is fixed and denoted by n.\n",
    "\n",
    "The random variable of interest is the number of successes, denoted by X.\n",
    "\n",
    "The distribution is parameterized by the number of trials n and the probability of success p.\n",
    "\n",
    "A coin flip experiment, Any Success or Failure test"
   ]
  },
  {
   "cell_type": "markdown",
   "id": "b6379890",
   "metadata": {},
   "source": [
    "Q5. Generate a random sample of size 1000 from a binomial distribution with probability of success 0.4\n",
    "and plot a histogram of the results using matplotlib."
   ]
  },
  {
   "cell_type": "code",
   "execution_count": 2,
   "id": "971082e2",
   "metadata": {},
   "outputs": [
    {
     "data": {
      "image/png": "[encoded data removed]",
      "text/plain": [
       "<Figure size 640x480 with 1 Axes>"
      ]
     },
     "metadata": {},
     "output_type": "display_data"
    }
   ],
   "source": [
    "import numpy as np\n",
    "import matplotlib.pyplot as plt\n",
    "\n",
    "# Set the random seed for reproducibility\n",
    "np.random.seed(1234)\n",
    "\n",
    "# Generate a random sample of size 1000 from a binomial distribution with n=1 and p=0.4\n",
    "sample = np.random.binomial(n=1, p=0.4, size=1000)\n",
    "\n",
    "# Plot a histogram of the sample using matplotlib\n",
    "plt.hist(sample, bins=2, edgecolor='black') #bins meaning only two outputs.\n",
    "plt.xlabel('Success or Failure')\n",
    "plt.ylabel('Frequency')\n",
    "plt.title('Histogram of Binomial Distribution Sample')\n",
    "plt.show()"
   ]
  },
  {
   "cell_type": "markdown",
   "id": "b14a0782",
   "metadata": {},
   "source": [
    "Q6. Write a Python function to calculate the cumulative distribution function of a Poisson distribution\n",
    "with given mean at a given point."
   ]
  },
  {
   "cell_type": "code",
   "execution_count": 3,
   "id": "c455f368",
   "metadata": {},
   "outputs": [],
   "source": [
    "from scipy.stats import poisson\n",
    "\n",
    "def poisson_cdf(mean, x):\n",
    "    return poisson.cdf(x, mean)\n"
   ]
  },
  {
   "cell_type": "markdown",
   "id": "1cb2d206",
   "metadata": {},
   "source": [
    "Q7. How Binomial distribution different from Poisson distribution?"
   ]
  },
  {
   "cell_type": "markdown",
   "id": "4104e457",
   "metadata": {},
   "source": [
    "Binomial distribution models the probability of a certain number of successes in a fixed number of independent trials, where the probability of success remains constant throughout the trials. Poisson distribution, on the other hand, models the probability of a certain number of events occurring in a fixed interval of time or space, where the events occur randomly and independently of each other."
   ]
  },
  {
   "cell_type": "markdown",
   "id": "44047153",
   "metadata": {},
   "source": [
    "Q8. Generate a random sample of size 1000 from a Poisson distribution with mean 5 and calculate the\n",
    "sample mean and variance."
   ]
  },
  {
   "cell_type": "code",
   "execution_count": 4,
   "id": "c756a8d4",
   "metadata": {},
   "outputs": [
    {
     "name": "stdout",
     "output_type": "stream",
     "text": [
      "Sample mean: 4.943\n",
      "Sample variance: 5.445751\n"
     ]
    }
   ],
   "source": [
    "np.random.seed(1234)\n",
    "sample = np.random.poisson(5, 1000)\n",
    "\n",
    "sample_mean = np.mean(sample)\n",
    "sample_var = np.var(sample)\n",
    "\n",
    "print(\"Sample mean:\", sample_mean)\n",
    "print(\"Sample variance:\", sample_var)"
   ]
  },
  {
   "cell_type": "markdown",
   "id": "219e47bd",
   "metadata": {},
   "source": [
    "Q9. How mean and variance are related in Binomial distribution and Poisson distribution?"
   ]
  },
  {
   "cell_type": "markdown",
   "id": "def45cfc",
   "metadata": {},
   "source": [
    "In Binomial distribution, the mean and variance are related by the formula:\n",
    "\n",
    "mean = n * p\n",
    "\n",
    "variance = n * p * (1 - p)\n",
    "\n",
    "where n is the number of trials, and p is the probability of success in each trial.\n",
    "\n",
    "In Poisson distribution, the mean and variance are equal, and are given by the parameter λ: where λ is the average number of events per unit of time or space.\n",
    "\n",
    "In both distributions, the mean and variance provide important information about the shape and spread of the distribution. For example, if the variance is much larger than the mean, the distribution is said to be overdispersed. If the variance is much smaller than the mean, the distribution is said to be underdispersed"
   ]
  },
  {
   "cell_type": "markdown",
   "id": "925a4070",
   "metadata": {},
   "source": [
    "Q10. In normal distribution with respect to mean position, where does the least frequent data appear?"
   ]
  },
  {
   "cell_type": "markdown",
   "id": "825e10b8",
   "metadata": {},
   "source": [
    "In a normal distribution, the least frequent data appears in the tails, which are the areas farthest from the mean. Specifically, data that is more than 2 or 3 standard deviations away from the mean are considered to be outliers or extreme values, and occur with very low frequency in a normal distribution."
   ]
  }
 ],
 "metadata": {
  "kernelspec": {
   "display_name": "Python 3 (ipykernel)",
   "language": "python",
   "name": "python3"
  },
  "language_info": {
   "codemirror_mode": {
    "name": "ipython",
    "version": 3
   },
   "file_extension": ".py",
   "mimetype": "text/x-python",
   "name": "python",
   "nbconvert_exporter": "python",
   "pygments_lexer": "ipython3",
   "version": "3.10.9"
  }
 },
 "nbformat": 4,
 "nbformat_minor": 5
}
